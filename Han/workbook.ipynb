{
 "cells": [
  {
   "cell_type": "code",
   "execution_count": null,
   "metadata": {},
   "outputs": [],
   "source": [
    "# import\n",
    "# read in csv\n",
    "\n",
    "# data cleaning:\n",
    "# dataFrame\n",
    "# trim down the columns to [calories, sugar, sodium, cholesterol, trans fat]\n",
    "\n",
    "# categories of food\n",
    "# Salads:\n",
    "# Fries:\n",
    "# \n",
    "\n",
    "\n",
    "\n",
    "# bar charts\n"
   ]
  }
 ],
 "metadata": {
  "kernelspec": {
   "display_name": "Python 3",
   "language": "python",
   "name": "python3"
  },
  "language_info": {
   "codemirror_mode": {
    "name": "ipython",
    "version": 3
   },
   "file_extension": ".py",
   "mimetype": "text/x-python",
   "name": "python",
   "nbconvert_exporter": "python",
   "pygments_lexer": "ipython3",
   "version": "3.6.10"
  }
 },
 "nbformat": 4,
 "nbformat_minor": 4
}
