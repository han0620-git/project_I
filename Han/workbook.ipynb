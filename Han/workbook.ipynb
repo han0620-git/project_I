{
 "cells": [
  {
   "cell_type": "code",
   "execution_count": null,
   "metadata": {},
   "outputs": [],
   "source": [
    "# import\n",
    "# read in csv\n",
    "\n",
    "# data cleaning:\n",
    "# dataFrame\n",
    "# trim down the columns to [calories, sugar, sodium, cholesterol, trans fat]\n",
    "\n",
    "# food to analyze:\n",
    "\n",
    "# Salads: full menu\n",
    "# grilled chicken wraps: entree chick cool wrap for McDonald (grilled)\n",
    "# yogurt parfait \n",
    "\n",
    "\n",
    "# Fries\n",
    "# Chicken nuggets\n",
    "# chicken sandwich\n",
    "# milk shake\n",
    "# McDonald's smoothie has a lot less calories than its milkshakes - better dessert alternative; chick fil a doesn't have any.\n",
    "\n",
    "\n",
    "# egg white sandwich\n",
    "# hashbrowns\n",
    "# sausage, cheese and egg muffin\n",
    "# bacon, egg and cheese biscuit\n",
    "# *burrito \n",
    "\n",
    "# price: append a price column, st. louis price data\n",
    "\n",
    "\n",
    "# bar charts\n"
   ]
  }
 ],
 "metadata": {
  "kernelspec": {
   "display_name": "Python 3",
   "language": "python",
   "name": "python3"
  },
  "language_info": {
   "codemirror_mode": {
    "name": "ipython",
    "version": 3
   },
   "file_extension": ".py",
   "mimetype": "text/x-python",
   "name": "python",
   "nbconvert_exporter": "python",
   "pygments_lexer": "ipython3",
   "version": "3.8.3"
  }
 },
 "nbformat": 4,
 "nbformat_minor": 4
}
