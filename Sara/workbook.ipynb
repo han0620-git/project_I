{
 "cells": [
  {
   "cell_type": "code",
   "execution_count": 7,
   "metadata": {},
   "outputs": [],
   "source": [
    "#dependencies and stuff here\n",
    "import pandas as pd\n",
    "import os\n",
    "\n",
    "McDonald_menu = os.path.join(\"..\", \"Resources\", \"mcdonald_menu.csv\")\n",
    "\n",
    "McDonald_menu_df = pd.read_csv(McDonald_menu)\n"
   ]
  },
  {
   "cell_type": "code",
   "execution_count": 8,
   "metadata": {},
   "outputs": [],
   "source": [
    "Chick_fil_a_menu = os.path.join(\"..\",\"Resources\",\"chick_fil_a_menu.csv\")\n",
    "Chick_fil_a_menu_df = pd.read_csv(Chick_fil_a_menu, encoding=\"ISO-8859-1\")\n"
   ]
  },
  {
   "cell_type": "code",
   "execution_count": 9,
   "metadata": {},
   "outputs": [
    {
     "output_type": "execute_result",
     "data": {
      "text/plain": "    Category                              Item  Calories  Sugars  Sodium  \\\n0  Breakfast                      Egg McMuffin       300       3     750   \n1  Breakfast                 Egg White Delight       250       3     770   \n2  Breakfast                  Sausage McMuffin       370       2     780   \n3  Breakfast         Sausage McMuffin with Egg       450       2     860   \n4  Breakfast  Sausage McMuffin with Egg Whites       400       2     880   \n\n   Cholesterol  Trans Fat  \n0          260        0.0  \n1           25        0.0  \n2           45        0.0  \n3          285        0.0  \n4           50        0.0  ",
      "text/html": "<div>\n<style scoped>\n    .dataframe tbody tr th:only-of-type {\n        vertical-align: middle;\n    }\n\n    .dataframe tbody tr th {\n        vertical-align: top;\n    }\n\n    .dataframe thead th {\n        text-align: right;\n    }\n</style>\n<table border=\"1\" class=\"dataframe\">\n  <thead>\n    <tr style=\"text-align: right;\">\n      <th></th>\n      <th>Category</th>\n      <th>Item</th>\n      <th>Calories</th>\n      <th>Sugars</th>\n      <th>Sodium</th>\n      <th>Cholesterol</th>\n      <th>Trans Fat</th>\n    </tr>\n  </thead>\n  <tbody>\n    <tr>\n      <th>0</th>\n      <td>Breakfast</td>\n      <td>Egg McMuffin</td>\n      <td>300</td>\n      <td>3</td>\n      <td>750</td>\n      <td>260</td>\n      <td>0.0</td>\n    </tr>\n    <tr>\n      <th>1</th>\n      <td>Breakfast</td>\n      <td>Egg White Delight</td>\n      <td>250</td>\n      <td>3</td>\n      <td>770</td>\n      <td>25</td>\n      <td>0.0</td>\n    </tr>\n    <tr>\n      <th>2</th>\n      <td>Breakfast</td>\n      <td>Sausage McMuffin</td>\n      <td>370</td>\n      <td>2</td>\n      <td>780</td>\n      <td>45</td>\n      <td>0.0</td>\n    </tr>\n    <tr>\n      <th>3</th>\n      <td>Breakfast</td>\n      <td>Sausage McMuffin with Egg</td>\n      <td>450</td>\n      <td>2</td>\n      <td>860</td>\n      <td>285</td>\n      <td>0.0</td>\n    </tr>\n    <tr>\n      <th>4</th>\n      <td>Breakfast</td>\n      <td>Sausage McMuffin with Egg Whites</td>\n      <td>400</td>\n      <td>2</td>\n      <td>880</td>\n      <td>50</td>\n      <td>0.0</td>\n    </tr>\n  </tbody>\n</table>\n</div>"
     },
     "metadata": {},
     "execution_count": 9
    }
   ],
   "source": [
    "# Remove unecessary columns from the McDonald menu and save the new DataFrame\n",
    "reduced_mc_df = McDonald_menu_df[[\"Category\", \"Item\", \"Calories\", \"Sugars\", \"Sodium\", \"Cholesterol\",\n",
    "                       \"Trans Fat\"]]\n",
    "reduced_mc_df.head()"
   ]
  },
  {
   "cell_type": "code",
   "execution_count": 6,
   "metadata": {},
   "outputs": [
    {
     "output_type": "execute_result",
     "data": {
      "text/plain": "  Categories                      Menu Item  Calories  Sugar (g)  Sodium (mg)  \\\n0  Breakfast    Chick-fil-A Chicken Biscuit       450          5         1310   \n1  Breakfast        Chick-n-Minis (4-count)       350          7          860   \n2  Breakfast                Egg White Grill       300          1          970   \n3  Breakfast    Bacon, Egg & Cheese Biscuit       420          1         1240   \n4  Breakfast  Sausage, Egg & Cheese Biscuit       600          1         1520   \n\n   Cholesterol (mg)  Trans Fat (g)  \n0                35              0  \n1                55              0  \n2                55              0  \n3               170              0  \n4               200              0  ",
      "text/html": "<div>\n<style scoped>\n    .dataframe tbody tr th:only-of-type {\n        vertical-align: middle;\n    }\n\n    .dataframe tbody tr th {\n        vertical-align: top;\n    }\n\n    .dataframe thead th {\n        text-align: right;\n    }\n</style>\n<table border=\"1\" class=\"dataframe\">\n  <thead>\n    <tr style=\"text-align: right;\">\n      <th></th>\n      <th>Categories</th>\n      <th>Menu Item</th>\n      <th>Calories</th>\n      <th>Sugar (g)</th>\n      <th>Sodium (mg)</th>\n      <th>Cholesterol (mg)</th>\n      <th>Trans Fat (g)</th>\n    </tr>\n  </thead>\n  <tbody>\n    <tr>\n      <th>0</th>\n      <td>Breakfast</td>\n      <td>Chick-fil-A Chicken Biscuit</td>\n      <td>450</td>\n      <td>5</td>\n      <td>1310</td>\n      <td>35</td>\n      <td>0</td>\n    </tr>\n    <tr>\n      <th>1</th>\n      <td>Breakfast</td>\n      <td>Chick-n-Minis (4-count)</td>\n      <td>350</td>\n      <td>7</td>\n      <td>860</td>\n      <td>55</td>\n      <td>0</td>\n    </tr>\n    <tr>\n      <th>2</th>\n      <td>Breakfast</td>\n      <td>Egg White Grill</td>\n      <td>300</td>\n      <td>1</td>\n      <td>970</td>\n      <td>55</td>\n      <td>0</td>\n    </tr>\n    <tr>\n      <th>3</th>\n      <td>Breakfast</td>\n      <td>Bacon, Egg &amp; Cheese Biscuit</td>\n      <td>420</td>\n      <td>1</td>\n      <td>1240</td>\n      <td>170</td>\n      <td>0</td>\n    </tr>\n    <tr>\n      <th>4</th>\n      <td>Breakfast</td>\n      <td>Sausage, Egg &amp; Cheese Biscuit</td>\n      <td>600</td>\n      <td>1</td>\n      <td>1520</td>\n      <td>200</td>\n      <td>0</td>\n    </tr>\n  </tbody>\n</table>\n</div>"
     },
     "metadata": {},
     "execution_count": 6
    }
   ],
   "source": [
    "# Remove unecessary columns from the Chick fil a menu and save the new DataFrame\n",
    "reduced_chick_df = Chick_fil_a_menu_df[[\"Categories\", \"Menu Item\", \"Calories\", \"Sugar (g)\", \"Sodium (mg)\", \"Cholesterol (mg)\",\n",
    "                       \"Trans Fat (g)\"]]\n",
    "reduced_chick_df.head()"
   ]
  },
  {
   "cell_type": "code",
   "execution_count": null,
   "metadata": {},
   "outputs": [],
   "source": []
  }
 ],
 "metadata": {
  "kernelspec": {
   "display_name": "Python 3",
   "language": "python",
   "name": "python3"
  },
  "language_info": {
   "codemirror_mode": {
    "name": "ipython",
    "version": 3
   },
   "file_extension": ".py",
   "mimetype": "text/x-python",
   "name": "python",
   "nbconvert_exporter": "python",
   "pygments_lexer": "ipython3",
   "version": "3.7.6-final"
  }
 },
 "nbformat": 4,
 "nbformat_minor": 4
}